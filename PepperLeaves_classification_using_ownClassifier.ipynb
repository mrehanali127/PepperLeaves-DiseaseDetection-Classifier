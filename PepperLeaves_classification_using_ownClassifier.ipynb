{
  "nbformat": 4,
  "nbformat_minor": 0,
  "metadata": {
    "colab": {
      "name": "ML_apnaClassifier.ipynb",
      "provenance": [],
      "collapsed_sections": []
    },
    "kernelspec": {
      "name": "python3",
      "display_name": "Python 3"
    },
    "language_info": {
      "name": "python"
    }
  },
  "cells": [
    {
      "cell_type": "markdown",
      "metadata": {
        "id": "DdPSGDRxCEKO"
      },
      "source": [
        "# Group Members\n",
        "\n",
        "\n",
        "*   M. Rehan Ali (1802008)\n",
        "*   Shahrukh Khan (1802029)\n",
        "*   Salman Ali (1802010)\n"
      ]
    },
    {
      "cell_type": "code",
      "metadata": {
        "id": "lAopscNiPkw0"
      },
      "source": [
        "############################################\n",
        "##########  Import Libraries  #############\n",
        "import cv2\n",
        "import numpy as np\n",
        "import os"
      ],
      "execution_count": null,
      "outputs": []
    },
    {
      "cell_type": "code",
      "metadata": {
        "id": "lvoFLRj0P0ve"
      },
      "source": [
        "###################  Import Keras Related Functions  ############\n",
        "from tensorflow.keras.models import Sequential,load_model\n",
        "from tensorflow.keras.layers import Dense, Dropout, Activation, Flatten\n",
        "from tensorflow.keras.layers import Conv2D, MaxPooling2D\n",
        "from tensorflow.keras.callbacks import TensorBoard\n",
        "from tensorflow.keras.utils import to_categorical\n",
        "import tensorflow as tf\n",
        "from sklearn.model_selection import train_test_split\n",
        "import pickle\n",
        "import time"
      ],
      "execution_count": null,
      "outputs": []
    },
    {
      "cell_type": "code",
      "metadata": {
        "id": "AJ-Z50O9QA4w",
        "colab": {
          "base_uri": "https://localhost:8080/"
        },
        "outputId": "438b6124-1d88-4981-b73d-df8897993e92"
      },
      "source": [
        "########################################################\n",
        "###########  Mount Google Derive ######################\n",
        "from google.colab import drive\n",
        "drive.mount('/content/drive', force_remount=True)"
      ],
      "execution_count": null,
      "outputs": [
        {
          "output_type": "stream",
          "text": [
            "Mounted at /content/drive\n"
          ],
          "name": "stdout"
        }
      ]
    },
    {
      "cell_type": "code",
      "metadata": {
        "id": "MKiyYrluQH2i"
      },
      "source": [
        "########################################################3\n",
        "#######  Some Variables for Data   #####################\n",
        "Dataset = []\n",
        "classNumber = 0         # numbered the class \n",
        "classNames=['Bacterial_Pepper','Healthy_Pepper'] #---> 0 : Bacterial  -- 1 : Healthy\n",
        "img_size = 224        # Size of Image tha we have defined\n",
        "path = \"/content/drive/My Drive/PepperDataset2\"      #path of dataset"
      ],
      "execution_count": null,
      "outputs": []
    },
    {
      "cell_type": "code",
      "metadata": {
        "id": "7hv0bLYFQcbd",
        "colab": {
          "base_uri": "https://localhost:8080/"
        },
        "outputId": "9e2caebe-ae59-449d-ff74-e109e0bf75ff"
      },
      "source": [
        "Dataset.clear()\n",
        "\n",
        "###  Read all images category wise  #######\n",
        "for folder in (os.listdir(path)):\n",
        "  print(classNumber)\n",
        "  fp = os.path.join(path,folder)\n",
        "  print(fp)\n",
        "  for eachImage in os.listdir(fp): \n",
        "    imagePath = os.path.join(fp,eachImage)\n",
        "    img = cv2.imread(imagePath)/255.0\n",
        "    resized_image=cv2.resize(img,(img_size,img_size))\n",
        "    Dataset.append([resized_image,classNumber])\n",
        "  classNumber = classNumber + 1\n",
        "  \n",
        "#print(Dataset[0])\n",
        "#print(len(Dataset))"
      ],
      "execution_count": null,
      "outputs": [
        {
          "output_type": "stream",
          "text": [
            "0\n",
            "/content/drive/My Drive/PepperDataset2/Bacterial_Pepper\n",
            "1\n",
            "/content/drive/My Drive/PepperDataset2/Healthy_Pepper\n",
            "[array([[[0.55848337, 0.5545618 , 0.6173069 ],\n",
            "        [0.56286513, 0.55894356, 0.62168866],\n",
            "        [0.53033212, 0.52641055, 0.58915565],\n",
            "        ...,\n",
            "        [0.6105441 , 0.59877939, 0.66152449],\n",
            "        [0.58295287, 0.57118816, 0.63393326],\n",
            "        [0.5881953 , 0.57643059, 0.63917569]],\n",
            "\n",
            "       [[0.58921567, 0.5852941 , 0.6480392 ],\n",
            "        [0.64087635, 0.63695478, 0.69969988],\n",
            "        [0.58983593, 0.58591436, 0.64865946],\n",
            "        ...,\n",
            "        [0.60250088, 0.59073617, 0.65348127],\n",
            "        [0.58861525, 0.57685054, 0.63959564],\n",
            "        [0.60626256, 0.59449786, 0.65724295]],\n",
            "\n",
            "       [[0.50134053, 0.49741896, 0.56016406],\n",
            "        [0.59109644, 0.58717487, 0.64991997],\n",
            "        [0.58951581, 0.58559424, 0.64833934],\n",
            "        ...,\n",
            "        [0.59847927, 0.58671456, 0.64945966],\n",
            "        [0.58821511, 0.57645041, 0.63919551],\n",
            "        [0.61410571, 0.60234101, 0.66508611]],\n",
            "\n",
            "       ...,\n",
            "\n",
            "       [[0.6623852 , 0.65062049, 0.70944402],\n",
            "        [0.63419347, 0.62242877, 0.6812523 ],\n",
            "        [0.58445354, 0.57268883, 0.63151236],\n",
            "        ...,\n",
            "        [0.5568228 , 0.53329339, 0.59996005],\n",
            "        [0.58065242, 0.55712301, 0.62378968],\n",
            "        [0.58951588, 0.56598647, 0.63265314]],\n",
            "\n",
            "       [[0.60244064, 0.59067593, 0.64949946],\n",
            "        [0.58379296, 0.57202825, 0.63085178],\n",
            "        [0.50858263, 0.49681793, 0.55564146],\n",
            "        ...,\n",
            "        [0.55052031, 0.5269909 , 0.59365756],\n",
            "        [0.596119  , 0.57258959, 0.63925626],\n",
            "        [0.57176852, 0.5482391 , 0.61490577]],\n",
            "\n",
            "       [[0.55832324, 0.54655853, 0.60538206],\n",
            "        [0.59493804, 0.58317334, 0.64199687],\n",
            "        [0.60616276, 0.59439805, 0.65322158],\n",
            "        ...,\n",
            "        [0.61460616, 0.59107675, 0.65774342],\n",
            "        [0.66096503, 0.63743562, 0.70410229],\n",
            "        [0.58629435, 0.56276493, 0.6294316 ]]]), 0]\n",
            "1997\n"
          ],
          "name": "stdout"
        }
      ]
    },
    {
      "cell_type": "code",
      "metadata": {
        "id": "-WD509_HQyFq",
        "colab": {
          "base_uri": "https://localhost:8080/"
        },
        "outputId": "b6242915-90f5-4e4e-8991-ffc80cd5180e"
      },
      "source": [
        "Images=[]\n",
        "Labels=[]\n",
        "np.random.shuffle(Dataset)      # shuffle dataset to prevent overfitting\n",
        "for image, label in Dataset:\n",
        "    Images.append(image)\n",
        "    Labels.append(label)\n",
        "print(len(Images))\n",
        "  "
      ],
      "execution_count": null,
      "outputs": [
        {
          "output_type": "stream",
          "text": [
            "1997\n"
          ],
          "name": "stdout"
        }
      ]
    },
    {
      "cell_type": "code",
      "metadata": {
        "id": "zF3P_5-rYH77",
        "colab": {
          "base_uri": "https://localhost:8080/"
        },
        "outputId": "6015ebe8-4612-4ce6-9a1b-aca18d9a6df4"
      },
      "source": [
        "# Reshaping Input Data/ Images\n",
        "import copy\n",
        "Images = np.array(Images).reshape(-1, img_size, img_size,3) \n",
        "Labels=np.array(Labels)\n",
        "\n",
        "#Split Data into Training and Testing\n",
        "train_images,test_images,train_labels,test_labels=train_test_split(Images,Labels,test_size=0.2)\n",
        "print(len(train_images))\n",
        "print(len(test_images))\n",
        "\n",
        "\n",
        "temp_train_labels=copy.deepcopy(train_labels)\n",
        "temp_test_labels=copy.deepcopy(test_labels)\n",
        "temp_labels=copy.deepcopy(Labels)\n",
        "\n",
        "train_labels=to_categorical(train_labels)\n",
        "test_labels=to_categorical(test_labels)\n",
        "print(len(Images))\n",
        "print(Images[0])\n",
        "print(Labels)"
      ],
      "execution_count": null,
      "outputs": [
        {
          "output_type": "stream",
          "text": [
            "1597\n",
            "400\n",
            "1997\n",
            "[[[0.81148456 0.73697476 0.77226887]\n",
            "  [0.81064424 0.73613444 0.77142855]\n",
            "  [0.80626249 0.73175268 0.7670468 ]\n",
            "  ...\n",
            "  [0.73795516 0.64775908 0.70266104]\n",
            "  [0.75472201 0.66452593 0.71942789]\n",
            "  [0.72659054 0.63639447 0.69129643]]\n",
            "\n",
            " [[0.80700278 0.73249298 0.7677871 ]\n",
            "  [0.80634254 0.73183273 0.76712685]\n",
            "  [0.80392157 0.72941176 0.76470588]\n",
            "  ...\n",
            "  [0.74543822 0.65524214 0.7101441 ]\n",
            "  [0.70938348 0.61918741 0.67408937]\n",
            "  [0.75440189 0.66420581 0.71910777]]\n",
            "\n",
            " [[0.80252099 0.72801119 0.7633053 ]\n",
            "  [0.80252101 0.7280112  0.76330532]\n",
            "  [0.80302121 0.7285114  0.76380552]\n",
            "  ...\n",
            "  [0.74479826 0.65460218 0.70950414]\n",
            "  [0.74525834 0.65506226 0.70996422]\n",
            "  [0.75866348 0.6684674  0.72336936]]\n",
            "\n",
            " ...\n",
            "\n",
            " [[0.7744293  0.69207636 0.72737047]\n",
            "  [0.74307684 0.6607239  0.69601802]\n",
            "  [0.78165255 0.69929961 0.73459372]\n",
            "  ...\n",
            "  [0.70150052 0.61914758 0.65444169]\n",
            "  [0.70029999 0.61794705 0.65324117]\n",
            "  [0.70104027 0.61868733 0.65398144]]\n",
            "\n",
            " [[0.78277285 0.70041991 0.73571403]\n",
            "  [0.75102021 0.66866727 0.70396139]\n",
            "  [0.72362889 0.64127595 0.67657007]\n",
            "  ...\n",
            "  [0.72050825 0.63815531 0.67344942]\n",
            "  [0.73247324 0.6501203  0.68541441]\n",
            "  [0.74095663 0.65860369 0.6938978 ]]\n",
            "\n",
            " [[0.76724686 0.68489392 0.72018804]\n",
            "  [0.77236901 0.69001607 0.72531019]\n",
            "  [0.72378956 0.64143662 0.67673074]\n",
            "  ...\n",
            "  [0.71782706 0.63547412 0.67076824]\n",
            "  [0.72565026 0.64329732 0.67859144]\n",
            "  [0.73389354 0.6515406  0.68683472]]]\n",
            "[0 1 1 ... 1 1 0]\n"
          ],
          "name": "stdout"
        }
      ]
    },
    {
      "cell_type": "code",
      "metadata": {
        "id": "nQrUGygOg7vl"
      },
      "source": [
        "############  Sequential Model (CNN Architecture)  ############\n",
        "model = Sequential()\n",
        "\n",
        "# 1st CONV2D & MaxPooling Layer\n",
        "model.add(Conv2D(100, (8, 8), input_shape=(224,224,3),activation='relu',strides=(3,3)))\n",
        "model.add(MaxPooling2D(pool_size=(4, 4),strides=(2,2)))\n",
        "#model.add(Dropout(0.3))\n",
        "\n",
        "# 2nd Conv2D & MaxPooling Layer\n",
        "model.add(Conv2D(200, (5, 5),activation='relu',strides=(2,2)))\n",
        "model.add(MaxPooling2D(pool_size=(3, 3),strides=(2,2)))\n",
        "#model.add(Dropout(0.3))\n",
        "\n",
        "#3rd Conv2D & MaxPooling Layer\n",
        "model.add(Conv2D(250, (3, 3),activation='relu',strides=(1,1)))\n",
        "model.add(MaxPooling2D(pool_size=(2, 2),strides=(1,1)))\n",
        "#model.add(Dropout(0.3))\n",
        "\n",
        "\n",
        "\n",
        "# flatten data for feeding to feed forward NN\n",
        "model.add(Flatten())\n",
        "\n",
        "model.add(Dense(2048,activation='relu'))          # Dense layer of  neurons\n",
        "model.add(Dropout(0.5))\n",
        "model.add(Dense(1024,activation='relu'))\n",
        "\n",
        "\n",
        "#final Layer \n",
        "model.add(Dense(2))\n",
        "model.add(Activation('softmax'))  #softmax activation fn for classification"
      ],
      "execution_count": null,
      "outputs": []
    },
    {
      "cell_type": "code",
      "metadata": {
        "id": "iI1GhgK1oDtp",
        "colab": {
          "base_uri": "https://localhost:8080/"
        },
        "outputId": "84e9fd58-9124-40a6-bdf8-5c639d09cff8"
      },
      "source": [
        "# Configuration of Model\n",
        "model.compile(loss='categorical_crossentropy',\n",
        "              optimizer='adam',\n",
        "              metrics=['accuracy'],\n",
        "              )\n",
        "model.summary()      #Output Shape formula=[(input_size-kernel_size+ 2P)/S]+1"
      ],
      "execution_count": null,
      "outputs": [
        {
          "output_type": "stream",
          "text": [
            "Model: \"sequential\"\n",
            "_________________________________________________________________\n",
            "Layer (type)                 Output Shape              Param #   \n",
            "=================================================================\n",
            "conv2d (Conv2D)              (None, 73, 73, 100)       19300     \n",
            "_________________________________________________________________\n",
            "max_pooling2d (MaxPooling2D) (None, 35, 35, 100)       0         \n",
            "_________________________________________________________________\n",
            "conv2d_1 (Conv2D)            (None, 16, 16, 200)       500200    \n",
            "_________________________________________________________________\n",
            "max_pooling2d_1 (MaxPooling2 (None, 7, 7, 200)         0         \n",
            "_________________________________________________________________\n",
            "conv2d_2 (Conv2D)            (None, 5, 5, 250)         450250    \n",
            "_________________________________________________________________\n",
            "max_pooling2d_2 (MaxPooling2 (None, 4, 4, 250)         0         \n",
            "_________________________________________________________________\n",
            "flatten (Flatten)            (None, 4000)              0         \n",
            "_________________________________________________________________\n",
            "dense (Dense)                (None, 2048)              8194048   \n",
            "_________________________________________________________________\n",
            "dropout (Dropout)            (None, 2048)              0         \n",
            "_________________________________________________________________\n",
            "dense_1 (Dense)              (None, 1024)              2098176   \n",
            "_________________________________________________________________\n",
            "dense_2 (Dense)              (None, 2)                 2050      \n",
            "_________________________________________________________________\n",
            "activation (Activation)      (None, 2)                 0         \n",
            "=================================================================\n",
            "Total params: 11,264,024\n",
            "Trainable params: 11,264,024\n",
            "Non-trainable params: 0\n",
            "_________________________________________________________________\n"
          ],
          "name": "stdout"
        }
      ]
    },
    {
      "cell_type": "code",
      "metadata": {
        "id": "DLw9wMu_qYs7",
        "colab": {
          "base_uri": "https://localhost:8080/"
        },
        "outputId": "5a24de40-04f4-4402-9162-364f3f5f5369"
      },
      "source": [
        "history=model.fit(train_images,train_labels,epochs=20,validation_split=0.2)  # seprate 20% data for validation\n",
        "# Saving Model\n",
        "model.save(\"Rehan2_Mask.model\") "
      ],
      "execution_count": null,
      "outputs": [
        {
          "output_type": "stream",
          "text": [
            "Epoch 1/20\n",
            "40/40 [==============================] - 47s 1s/step - loss: 0.8203 - accuracy: 0.5161 - val_loss: 0.6932 - val_accuracy: 0.4812\n",
            "Epoch 2/20\n",
            "40/40 [==============================] - 46s 1s/step - loss: 0.6455 - accuracy: 0.5881 - val_loss: 0.4517 - val_accuracy: 0.7969\n",
            "Epoch 3/20\n",
            "40/40 [==============================] - 46s 1s/step - loss: 0.4637 - accuracy: 0.8066 - val_loss: 0.3791 - val_accuracy: 0.8594\n",
            "Epoch 4/20\n",
            "40/40 [==============================] - 46s 1s/step - loss: 0.2494 - accuracy: 0.9123 - val_loss: 0.1905 - val_accuracy: 0.9219\n",
            "Epoch 5/20\n",
            "40/40 [==============================] - 46s 1s/step - loss: 0.1995 - accuracy: 0.9225 - val_loss: 0.1422 - val_accuracy: 0.9563\n",
            "Epoch 6/20\n",
            "40/40 [==============================] - 46s 1s/step - loss: 0.1586 - accuracy: 0.9452 - val_loss: 0.1419 - val_accuracy: 0.9563\n",
            "Epoch 7/20\n",
            "40/40 [==============================] - 46s 1s/step - loss: 0.2162 - accuracy: 0.9154 - val_loss: 0.1461 - val_accuracy: 0.9344\n",
            "Epoch 8/20\n",
            "40/40 [==============================] - 46s 1s/step - loss: 0.1785 - accuracy: 0.9397 - val_loss: 0.2199 - val_accuracy: 0.9281\n",
            "Epoch 9/20\n",
            "40/40 [==============================] - 46s 1s/step - loss: 0.1906 - accuracy: 0.9421 - val_loss: 0.0961 - val_accuracy: 0.9656\n",
            "Epoch 10/20\n",
            "40/40 [==============================] - 46s 1s/step - loss: 0.1071 - accuracy: 0.9585 - val_loss: 0.0781 - val_accuracy: 0.9719\n",
            "Epoch 11/20\n",
            "40/40 [==============================] - 46s 1s/step - loss: 0.0804 - accuracy: 0.9702 - val_loss: 0.0682 - val_accuracy: 0.9781\n",
            "Epoch 12/20\n",
            "40/40 [==============================] - 46s 1s/step - loss: 0.0598 - accuracy: 0.9820 - val_loss: 0.1171 - val_accuracy: 0.9656\n",
            "Epoch 13/20\n",
            "40/40 [==============================] - 46s 1s/step - loss: 0.0680 - accuracy: 0.9773 - val_loss: 0.1550 - val_accuracy: 0.9531\n",
            "Epoch 14/20\n",
            "40/40 [==============================] - 46s 1s/step - loss: 0.0745 - accuracy: 0.9679 - val_loss: 0.0568 - val_accuracy: 0.9781\n",
            "Epoch 15/20\n",
            "40/40 [==============================] - 46s 1s/step - loss: 0.0308 - accuracy: 0.9867 - val_loss: 0.0890 - val_accuracy: 0.9812\n",
            "Epoch 16/20\n",
            "40/40 [==============================] - 46s 1s/step - loss: 0.0241 - accuracy: 0.9922 - val_loss: 0.0542 - val_accuracy: 0.9750\n",
            "Epoch 17/20\n",
            "40/40 [==============================] - 46s 1s/step - loss: 0.0230 - accuracy: 0.9906 - val_loss: 0.0932 - val_accuracy: 0.9750\n",
            "Epoch 18/20\n",
            "40/40 [==============================] - 46s 1s/step - loss: 0.0464 - accuracy: 0.9883 - val_loss: 0.0914 - val_accuracy: 0.9656\n",
            "Epoch 19/20\n",
            "40/40 [==============================] - 46s 1s/step - loss: 0.1246 - accuracy: 0.9655 - val_loss: 0.0725 - val_accuracy: 0.9719\n",
            "Epoch 20/20\n",
            "40/40 [==============================] - 46s 1s/step - loss: 0.0345 - accuracy: 0.9875 - val_loss: 0.0359 - val_accuracy: 0.9812\n",
            "INFO:tensorflow:Assets written to: Rehan2_Mask.model/assets\n"
          ],
          "name": "stdout"
        }
      ]
    },
    {
      "cell_type": "code",
      "metadata": {
        "id": "C-U5nQ-4rZcg",
        "colab": {
          "base_uri": "https://localhost:8080/",
          "height": 300
        },
        "outputId": "39278d87-517b-473d-c5e4-cf384ba276b9"
      },
      "source": [
        "# Plot Accuracy history during Trainig\n",
        "from matplotlib import pyplot as plt\n",
        "plt.plot(history.history['accuracy'],label='accuracy')\n",
        "plt.plot(history.history['val_accuracy'],label='val_accuracy')\n",
        "plt.xlabel('Epoch')\n",
        "plt.ylabel('Accuracy')\n",
        "plt.ylim([0,1])\n",
        "plt.legend(loc='lower right')"
      ],
      "execution_count": null,
      "outputs": [
        {
          "output_type": "execute_result",
          "data": {
            "text/plain": [
              "<matplotlib.legend.Legend at 0x7f652b009650>"
            ]
          },
          "metadata": {
            "tags": []
          },
          "execution_count": 14
        },
        {
          "output_type": "display_data",
          "data": {
            "image/png": "[encoded data removed]",
            "text/plain": [
              "<Figure size 432x288 with 1 Axes>"
            ]
          },
          "metadata": {
            "tags": [],
            "needs_background": "light"
          }
        }
      ]
    },
    {
      "cell_type": "code",
      "metadata": {
        "id": "RNtZsqmSrdur",
        "colab": {
          "base_uri": "https://localhost:8080/",
          "height": 296
        },
        "outputId": "c582b99a-5fb3-42ca-8f1d-616cb98ed1ea"
      },
      "source": [
        "# Plot loss history during training\n",
        "plt.plot(history.history['loss'],label='loss')\n",
        "plt.plot(history.history['val_loss'],label='val_loss')\n",
        "plt.xlabel('Epoch')\n",
        "plt.ylabel('Loss')\n",
        "#plt.ylim([0,1])\n",
        "plt.legend(loc='upper right')"
      ],
      "execution_count": null,
      "outputs": [
        {
          "output_type": "execute_result",
          "data": {
            "text/plain": [
              "<matplotlib.legend.Legend at 0x7f652aed8810>"
            ]
          },
          "metadata": {
            "tags": []
          },
          "execution_count": 15
        },
        {
          "output_type": "display_data",
          "data": {
            "image/png": "[encoded data removed]",
            "text/plain": [
              "<Figure size 432x288 with 1 Axes>"
            ]
          },
          "metadata": {
            "tags": [],
            "needs_background": "light"
          }
        }
      ]
    },
    {
      "cell_type": "code",
      "metadata": {
        "id": "rZY-L21ErCzA",
        "colab": {
          "base_uri": "https://localhost:8080/"
        },
        "outputId": "2f3cb2b2-1f90-4ab8-9612-b7c46030d469"
      },
      "source": [
        "#Evaluate model on testing data\n",
        "model.evaluate(test_images,test_labels)"
      ],
      "execution_count": null,
      "outputs": [
        {
          "output_type": "stream",
          "text": [
            "13/13 [==============================] - 4s 279ms/step - loss: 0.0369 - accuracy: 0.9925\n"
          ],
          "name": "stdout"
        },
        {
          "output_type": "execute_result",
          "data": {
            "text/plain": [
              "[0.03688346594572067, 0.9925000071525574]"
            ]
          },
          "metadata": {
            "tags": []
          },
          "execution_count": 16
        }
      ]
    },
    {
      "cell_type": "code",
      "metadata": {
        "id": "Gbv9HL8urP3F",
        "colab": {
          "base_uri": "https://localhost:8080/"
        },
        "outputId": "6a4922c1-9db9-4220-b7ec-f6d303ff6a11"
      },
      "source": [
        "# Complete Classification Report on testing data\n",
        "\n",
        "from sklearn.metrics import classification_report\n",
        "predicted_labels=model.predict(test_images)\n",
        "pred_classes = [np.argmax(element) for element in predicted_labels]\n",
        "print(pred_classes)\n",
        "print(\"Classification Report \\n\",classification_report(temp_test_labels,pred_classes))"
      ],
      "execution_count": null,
      "outputs": [
        {
          "output_type": "stream",
          "text": [
            "[0, 0, 0, 1, 1, 1, 1, 1, 1, 0, 0, 0, 1, 1, 0, 1, 1, 1, 1, 0, 1, 1, 0, 1, 1, 0, 0, 1, 1, 1, 0, 0, 1, 1, 1, 1, 0, 0, 0, 0, 1, 0, 0, 0, 1, 0, 1, 0, 0, 0, 1, 1, 1, 1, 0, 0, 0, 0, 0, 1, 0, 1, 0, 1, 1, 0, 1, 1, 1, 0, 0, 0, 1, 0, 0, 0, 0, 1, 0, 0, 1, 1, 0, 0, 0, 0, 0, 1, 1, 0, 0, 0, 1, 1, 0, 0, 1, 0, 0, 0, 1, 0, 0, 1, 0, 1, 1, 0, 0, 0, 0, 0, 1, 0, 1, 0, 1, 0, 0, 1, 1, 0, 1, 1, 0, 1, 0, 0, 0, 1, 0, 0, 0, 1, 0, 1, 0, 1, 0, 1, 1, 0, 0, 0, 1, 0, 0, 1, 1, 0, 1, 1, 1, 1, 1, 0, 0, 0, 1, 0, 0, 0, 0, 0, 1, 0, 1, 1, 0, 0, 0, 1, 1, 1, 1, 1, 0, 0, 0, 1, 0, 1, 1, 0, 1, 0, 1, 0, 1, 0, 0, 1, 1, 1, 1, 1, 1, 0, 1, 0, 1, 1, 1, 1, 0, 1, 0, 1, 1, 1, 1, 1, 0, 0, 1, 0, 1, 0, 0, 0, 0, 1, 0, 1, 1, 1, 1, 0, 0, 1, 0, 1, 0, 1, 0, 0, 0, 0, 1, 0, 0, 0, 1, 1, 0, 1, 0, 0, 1, 0, 0, 0, 0, 0, 0, 1, 1, 0, 0, 1, 1, 0, 1, 1, 0, 1, 0, 1, 0, 1, 1, 1, 1, 0, 1, 1, 1, 1, 1, 0, 1, 1, 0, 1, 0, 1, 1, 1, 1, 1, 1, 0, 0, 0, 0, 0, 0, 1, 0, 1, 0, 1, 0, 0, 0, 0, 0, 0, 1, 0, 1, 0, 1, 0, 1, 1, 0, 0, 1, 1, 1, 0, 1, 1, 1, 0, 1, 1, 0, 1, 1, 1, 0, 0, 1, 0, 1, 0, 0, 1, 0, 0, 1, 0, 1, 0, 0, 0, 0, 0, 1, 0, 0, 1, 0, 1, 0, 1, 0, 0, 1, 1, 1, 0, 0, 1, 0, 0, 0, 1, 0, 1, 1, 0, 1, 0, 0, 1, 1, 1, 0, 0, 1, 0, 1, 0, 0, 0, 1, 0, 1, 0, 0, 0, 0, 0, 0, 1, 1, 1]\n",
            "Classification Report \n",
            "               precision    recall  f1-score   support\n",
            "\n",
            "           0       1.00      0.99      0.99       210\n",
            "           1       0.99      0.99      0.99       190\n",
            "\n",
            "    accuracy                           0.99       400\n",
            "   macro avg       0.99      0.99      0.99       400\n",
            "weighted avg       0.99      0.99      0.99       400\n",
            "\n"
          ],
          "name": "stdout"
        }
      ]
    },
    {
      "cell_type": "code",
      "metadata": {
        "colab": {
          "base_uri": "https://localhost:8080/"
        },
        "id": "8lVNDvMzybP7",
        "outputId": "84501f12-f2f5-4f0e-e6a8-8e61a812c866"
      },
      "source": [
        "# Complete Classification Report on training data\n",
        "\n",
        "predicted_labels=model.predict(train_images)\n",
        "pred_classes = [np.argmax(element) for element in predicted_labels]\n",
        "print(pred_classes)\n",
        "print(\"Classification Report \\n\",classification_report(temp_train_labels,pred_classes))"
      ],
      "execution_count": null,
      "outputs": [
        {
          "output_type": "stream",
          "text": [
            "[0, 1, 1, 1, 1, 0, 1, 0, 1, 0, 0, 0, 0, 0, 0, 0, 1, 1, 0, 0, 1, 0, 0, 0, 1, 0, 0, 1, 1, 1, 1, 0, 0, 0, 0, 0, 1, 0, 1, 0, 0, 0, 1, 1, 1, 1, 0, 1, 0, 0, 0, 1, 1, 1, 1, 1, 1, 1, 1, 1, 1, 0, 0, 0, 0, 1, 0, 0, 0, 1, 0, 0, 1, 0, 1, 0, 1, 1, 1, 1, 0, 0, 1, 0, 1, 1, 1, 1, 0, 1, 1, 0, 1, 0, 0, 1, 1, 1, 1, 0, 1, 1, 0, 1, 0, 1, 1, 0, 0, 1, 0, 1, 1, 0, 1, 1, 1, 0, 1, 0, 0, 0, 1, 1, 1, 0, 1, 1, 0, 1, 0, 1, 1, 1, 1, 0, 0, 0, 1, 0, 1, 0, 1, 1, 0, 1, 1, 1, 1, 0, 0, 0, 1, 0, 0, 0, 1, 0, 0, 1, 1, 0, 0, 1, 1, 0, 0, 0, 0, 0, 1, 0, 1, 1, 1, 0, 0, 1, 1, 1, 1, 0, 0, 0, 1, 1, 1, 1, 0, 1, 0, 0, 0, 1, 0, 0, 0, 0, 1, 1, 0, 1, 0, 1, 1, 0, 0, 0, 1, 1, 1, 1, 0, 0, 1, 1, 1, 1, 0, 1, 0, 1, 1, 1, 0, 0, 0, 1, 0, 0, 1, 0, 1, 0, 0, 0, 1, 0, 0, 1, 1, 1, 0, 1, 0, 1, 1, 1, 0, 1, 0, 1, 1, 0, 0, 0, 0, 0, 0, 0, 0, 0, 0, 0, 0, 0, 0, 1, 1, 1, 1, 0, 1, 0, 0, 0, 1, 1, 1, 1, 1, 0, 1, 1, 0, 0, 1, 1, 0, 1, 0, 1, 1, 0, 1, 0, 1, 1, 1, 0, 1, 0, 0, 0, 0, 0, 1, 1, 1, 0, 0, 1, 1, 1, 1, 0, 1, 1, 0, 1, 0, 0, 0, 0, 1, 1, 1, 0, 0, 0, 0, 1, 1, 0, 0, 1, 1, 0, 1, 1, 0, 0, 1, 1, 1, 1, 0, 0, 0, 0, 0, 0, 0, 1, 0, 1, 1, 1, 1, 0, 0, 0, 1, 0, 1, 1, 1, 1, 1, 0, 1, 1, 0, 1, 0, 1, 0, 1, 1, 0, 1, 1, 0, 1, 0, 1, 0, 0, 0, 1, 0, 0, 0, 1, 1, 1, 1, 1, 1, 1, 1, 1, 1, 1, 1, 1, 0, 1, 0, 0, 1, 1, 0, 0, 0, 0, 1, 0, 1, 1, 0, 0, 0, 0, 1, 1, 0, 1, 0, 0, 1, 1, 1, 1, 1, 1, 0, 0, 1, 0, 0, 0, 1, 1, 0, 1, 0, 1, 0, 0, 0, 1, 0, 0, 1, 1, 0, 1, 0, 1, 1, 1, 1, 0, 0, 1, 0, 1, 1, 1, 1, 0, 0, 1, 0, 1, 0, 1, 0, 1, 1, 1, 0, 0, 1, 1, 1, 1, 1, 1, 0, 0, 0, 0, 1, 0, 0, 0, 1, 1, 0, 1, 1, 1, 0, 0, 1, 0, 0, 1, 1, 1, 0, 0, 1, 1, 0, 1, 1, 0, 1, 1, 0, 0, 1, 1, 1, 1, 1, 0, 0, 1, 0, 1, 0, 0, 0, 1, 1, 1, 1, 0, 1, 1, 0, 0, 1, 0, 0, 0, 0, 0, 0, 0, 0, 1, 0, 0, 1, 1, 0, 0, 1, 1, 1, 0, 0, 1, 0, 0, 1, 1, 1, 0, 1, 1, 0, 0, 0, 0, 1, 1, 1, 0, 0, 1, 0, 1, 1, 0, 0, 1, 0, 0, 0, 0, 0, 0, 1, 0, 0, 0, 0, 0, 1, 0, 0, 1, 1, 1, 1, 1, 0, 1, 0, 0, 1, 1, 0, 1, 1, 0, 1, 1, 1, 0, 0, 0, 1, 0, 1, 1, 1, 0, 0, 0, 1, 1, 0, 0, 0, 0, 0, 1, 0, 0, 1, 0, 1, 0, 0, 0, 0, 1, 0, 0, 0, 1, 1, 1, 1, 0, 1, 0, 0, 1, 1, 0, 0, 1, 0, 1, 0, 1, 1, 1, 1, 1, 1, 1, 0, 1, 1, 0, 1, 0, 0, 1, 0, 1, 1, 0, 0, 0, 1, 1, 0, 1, 1, 0, 1, 1, 1, 0, 0, 0, 0, 0, 1, 0, 0, 1, 0, 1, 1, 0, 0, 0, 1, 0, 1, 1, 1, 0, 0, 1, 1, 1, 1, 1, 0, 0, 1, 1, 0, 1, 0, 1, 1, 1, 1, 1, 1, 1, 1, 1, 0, 1, 1, 0, 1, 0, 1, 1, 0, 0, 0, 1, 0, 1, 1, 0, 0, 0, 1, 1, 0, 0, 1, 1, 0, 0, 0, 1, 0, 0, 1, 0, 1, 1, 1, 0, 1, 1, 1, 1, 0, 0, 1, 1, 0, 1, 1, 1, 0, 0, 1, 0, 1, 0, 1, 1, 1, 1, 0, 0, 0, 1, 1, 1, 0, 1, 1, 0, 0, 1, 0, 0, 1, 0, 1, 0, 1, 1, 0, 1, 0, 1, 0, 0, 1, 1, 0, 0, 1, 0, 0, 1, 1, 1, 0, 1, 0, 0, 0, 0, 0, 1, 0, 0, 0, 0, 1, 0, 1, 0, 1, 0, 0, 0, 0, 0, 0, 1, 0, 1, 1, 1, 1, 1, 1, 0, 0, 1, 0, 0, 1, 1, 0, 0, 1, 1, 0, 1, 1, 0, 1, 1, 0, 1, 0, 1, 1, 0, 0, 1, 0, 0, 0, 1, 1, 0, 1, 1, 0, 1, 0, 1, 1, 1, 1, 0, 1, 1, 0, 0, 1, 0, 0, 1, 1, 0, 0, 0, 0, 0, 0, 0, 1, 1, 1, 1, 0, 1, 0, 1, 1, 0, 0, 0, 1, 1, 0, 0, 1, 0, 0, 1, 1, 1, 1, 1, 0, 1, 0, 0, 1, 1, 0, 1, 0, 1, 1, 0, 0, 0, 0, 0, 1, 0, 0, 0, 1, 0, 1, 0, 0, 0, 1, 1, 0, 0, 1, 0, 1, 0, 0, 0, 1, 0, 1, 1, 0, 0, 0, 0, 1, 0, 1, 1, 0, 1, 1, 1, 1, 0, 1, 0, 0, 1, 0, 1, 1, 1, 0, 0, 0, 0, 1, 1, 1, 0, 1, 0, 1, 0, 0, 0, 1, 1, 0, 1, 1, 0, 1, 1, 1, 1, 1, 0, 1, 1, 0, 0, 0, 0, 0, 1, 0, 0, 0, 1, 1, 1, 1, 1, 1, 0, 0, 0, 0, 0, 0, 1, 1, 0, 1, 1, 0, 1, 0, 1, 1, 1, 1, 0, 1, 1, 0, 1, 1, 0, 1, 1, 0, 1, 1, 1, 0, 1, 1, 1, 0, 0, 1, 1, 0, 0, 0, 1, 1, 1, 1, 1, 0, 0, 0, 1, 1, 0, 1, 1, 0, 0, 1, 1, 0, 1, 1, 1, 0, 0, 0, 1, 0, 0, 1, 0, 0, 0, 1, 1, 1, 1, 0, 1, 1, 1, 0, 1, 0, 1, 1, 0, 0, 1, 1, 0, 1, 0, 1, 0, 1, 0, 1, 1, 1, 1, 1, 0, 0, 0, 0, 1, 0, 0, 0, 1, 0, 0, 1, 0, 0, 1, 1, 0, 0, 0, 1, 0, 0, 1, 1, 1, 0, 1, 0, 1, 1, 0, 0, 1, 0, 0, 0, 0, 1, 1, 1, 1, 1, 1, 0, 1, 0, 1, 1, 0, 1, 1, 0, 1, 0, 0, 0, 1, 1, 0, 1, 0, 1, 0, 0, 1, 0, 0, 0, 1, 1, 1, 0, 1, 1, 1, 0, 0, 0, 0, 0, 0, 1, 0, 1, 1, 0, 1, 1, 1, 0, 1, 0, 0, 1, 0, 0, 0, 0, 0, 0, 0, 1, 1, 1, 0, 1, 0, 1, 1, 1, 0, 1, 1, 1, 0, 1, 1, 0, 1, 0, 1, 1, 0, 1, 1, 1, 0, 0, 1, 1, 1, 0, 0, 1, 1, 0, 1, 0, 0, 1, 0, 1, 0, 0, 0, 1, 0, 1, 1, 1, 0, 0, 0, 0, 0, 0, 0, 1, 1, 0, 1, 1, 0, 0, 0, 1, 0, 1, 0, 1, 1, 1, 1, 1, 0, 1, 1, 0, 0, 1, 0, 0, 0, 0, 1, 1, 1, 1, 1, 1, 1, 0, 0, 0, 0, 0, 1, 0, 0, 0, 1, 1, 1, 0, 1, 0, 0, 0, 1, 0, 1, 1, 1, 1, 0, 0, 1, 1, 0, 0, 0, 1, 1, 1, 0, 0, 0, 1, 0, 0, 1, 0, 1, 1, 0, 0, 0, 0, 0, 0, 0, 0, 1, 0, 1, 1, 0, 1, 0, 1, 0, 0, 0, 0, 1, 1, 1, 0, 0, 1, 1, 1, 0, 1, 1, 1, 0, 1, 0, 0, 1, 0, 1, 0, 0, 0, 1, 1, 0, 1, 0, 0, 0, 0, 0, 0, 0, 0, 1, 1, 0, 0, 1, 1, 1, 1, 1, 1, 1, 0, 1, 0, 0, 0, 1, 0, 1, 0, 1, 1, 0, 1, 0, 0, 1, 1, 0, 0, 0, 0, 1, 1, 1, 1, 0, 0, 0, 0, 1, 1, 1, 1, 0, 1, 0, 1, 0, 1, 1, 0, 0, 1, 0, 1, 1, 0, 1, 0, 0, 1, 0, 1, 0, 0, 1, 1, 0, 1, 1, 1, 1, 0, 0, 0, 0, 0, 0, 1, 0, 0, 0, 1, 0, 1, 1, 1, 0, 1, 0, 1, 0, 1, 0, 1, 1, 1, 0, 0, 0, 0, 1, 0, 1, 0, 0, 0, 0, 1, 1, 1, 0, 1, 1, 0, 1, 1, 0, 0, 0, 1, 0, 1, 0, 0, 1, 1, 1, 0, 0, 0, 1, 0, 1, 0, 1, 0, 0, 0, 1, 0, 1, 1, 0, 1, 0, 1, 0, 1]\n",
            "Classification Report \n",
            "               precision    recall  f1-score   support\n",
            "\n",
            "           0       0.99      0.99      0.99       787\n",
            "           1       0.99      0.99      0.99       810\n",
            "\n",
            "    accuracy                           0.99      1597\n",
            "   macro avg       0.99      0.99      0.99      1597\n",
            "weighted avg       0.99      0.99      0.99      1597\n",
            "\n"
          ],
          "name": "stdout"
        }
      ]
    },
    {
      "cell_type": "code",
      "metadata": {
        "id": "FC-Os8FGMT68",
        "colab": {
          "base_uri": "https://localhost:8080/",
          "height": 231
        },
        "outputId": "7782fed6-0698-448f-ab60-5a2a076c782c"
      },
      "source": [
        "#Preprocess image before sending for prediction\n",
        "def prepare(filepath):\n",
        "    img_size = 224\n",
        "    img = cv2.imread(filepath)/255.0 \n",
        "    img_resize = cv2.resize(img, (img_size, img_size))\n",
        "    return img_resize.reshape(-1, img_size, img_size, 3)\n",
        "\n",
        "#Predict Images\n",
        "image_path=\"pepper_bacterial6.jpg\"\n",
        "image_read=cv2.imread(image_path)\n",
        "prediction = model.predict(prepare(image_path))\n",
        "print((prediction))\n",
        "\n",
        "\n",
        "CATEGORIES = [\"Bacterial Leaf\", \"Healthy Leaf\"]\n",
        "pred_class = CATEGORIES[np.argmax(prediction)]\n",
        "print(pred_class)\n",
        "\n",
        "\n",
        "#############################################################\n",
        "\"\"\"\n",
        "#cv2.imshow(pred_class,image_read)\n",
        "counter=0\n",
        "\n",
        "prediction=model.predict(test_images)\n",
        "pred_classes = [np.argmax(element) for element in predicted_labels]\n",
        "#print(pred_classes)\n",
        "#print(temp_test_labels)\n",
        "\n",
        "for i in range(10):\n",
        "  print(\"Class :\",i)\n",
        "  print(prediction[i])\n",
        "  print(temp_test_labels[i])\n",
        "\n",
        "\"\"\"\n",
        "\n"
      ],
      "execution_count": null,
      "outputs": [
        {
          "output_type": "error",
          "ename": "NameError",
          "evalue": "ignored",
          "traceback": [
            "\u001b[0;31m---------------------------------------------------------------------------\u001b[0m",
            "\u001b[0;31mNameError\u001b[0m                                 Traceback (most recent call last)",
            "\u001b[0;32m<ipython-input-1-43feb83a50a6>\u001b[0m in \u001b[0;36m<module>\u001b[0;34m()\u001b[0m\n\u001b[1;32m      6\u001b[0m \u001b[0;34m\u001b[0m\u001b[0m\n\u001b[1;32m      7\u001b[0m \u001b[0mimage_path\u001b[0m\u001b[0;34m=\u001b[0m\u001b[0;34m\"pepper_bacterial6.jpg\"\u001b[0m\u001b[0;34m\u001b[0m\u001b[0;34m\u001b[0m\u001b[0m\n\u001b[0;32m----> 8\u001b[0;31m \u001b[0mimage_read\u001b[0m\u001b[0;34m=\u001b[0m\u001b[0mcv2\u001b[0m\u001b[0;34m.\u001b[0m\u001b[0mimread\u001b[0m\u001b[0;34m(\u001b[0m\u001b[0mimage_path\u001b[0m\u001b[0;34m)\u001b[0m\u001b[0;34m\u001b[0m\u001b[0;34m\u001b[0m\u001b[0m\n\u001b[0m\u001b[1;32m      9\u001b[0m \u001b[0mprediction\u001b[0m \u001b[0;34m=\u001b[0m \u001b[0mmodel\u001b[0m\u001b[0;34m.\u001b[0m\u001b[0mpredict\u001b[0m\u001b[0;34m(\u001b[0m\u001b[0mprepare\u001b[0m\u001b[0;34m(\u001b[0m\u001b[0mimage_path\u001b[0m\u001b[0;34m)\u001b[0m\u001b[0;34m)\u001b[0m\u001b[0;34m\u001b[0m\u001b[0;34m\u001b[0m\u001b[0m\n\u001b[1;32m     10\u001b[0m \u001b[0;34m\u001b[0m\u001b[0m\n",
            "\u001b[0;31mNameError\u001b[0m: name 'cv2' is not defined"
          ]
        }
      ]
    }
  ]
}